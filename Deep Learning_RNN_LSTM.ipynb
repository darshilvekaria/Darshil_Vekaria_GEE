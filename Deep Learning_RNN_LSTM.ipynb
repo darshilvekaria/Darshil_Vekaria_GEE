{
 "cells": [
  {
   "cell_type": "markdown",
   "metadata": {},
   "source": [
    "# Deep Learning Technique (RNN-LSTM)\n",
    "\n",
    "##### Google Stock price prediction using this technique. \n",
    "\n",
    "**What is RNN?**\n",
    "- Recurrent Neural Networks can memorize/ remember previous inputs in memory when there is huge sequential data given to it.<b>\n",
    "    \n",
    "    \n",
    "- It's like a feed forward neural network that has an internal memory.<b>\n",
    "    \n",
    "    \n",
    "- After producing the output, it is copied and sent back into the recurrent network. For making a decision, it considers the   current input and the output that it has learned from the previous input. <b>\n",
    "    \n",
    "    \n",
    "- In RNN all the inputs are related to each other, whereas in other neural networks, all the inputs are independent of each other.\n",
    "\n",
    "**What is LSTM?**\n",
    "    \n",
    "- Long Short Term Memory networks are a special kind of RNN which are capable of learning long-term dependencies.<b>\n",
    "    \n",
    "    \n",
    "     \n",
    "- It consists of one memory cell and three gates/regulators: input gate, an output gate and a forget gate. <b>\n",
    "    \n",
    "    \n",
    "    - Input gate:  To control the new values flowing into the cell.\n",
    "    - Forget gate: To control the extent to which a value remains in the cell.\n",
    "    - Output gate: To control the extent to which the value in the cell is used to compute output activation of LSTM unit.\n",
    "    \n",
    "    \n",
    "\n",
    "*In short: LSTMs are designed to avoid the long-term dependency problem.*\n",
    "    \n",
    "#### For more detailed information on RNN-LSTM, click [here](https://colah.github.io/posts/2015-08-Understanding-LSTMs/ \"Please click here\") \n",
    "\n",
    "The data used in this notebook is from 19th August,2004 to 7th October,2019.\n",
    "#### Dataset can downloaded from [here](https://finance.yahoo.com/quote/GOOG/history/?guccounter=1 \"Please click here\").\n",
    "    "
   ]
  },
  {
   "cell_type": "code",
   "execution_count": 1,
   "metadata": {},
   "outputs": [],
   "source": [
    "import numpy as np\n",
    "import matplotlib.pyplot as plt\n",
    "import pandas as pd\n",
    "from sklearn.preprocessing import MinMaxScaler"
   ]
  },
  {
   "cell_type": "code",
   "execution_count": 2,
   "metadata": {},
   "outputs": [
    {
     "data": {
      "text/html": [
       "<div>\n",
       "<style scoped>\n",
       "    .dataframe tbody tr th:only-of-type {\n",
       "        vertical-align: middle;\n",
       "    }\n",
       "\n",
       "    .dataframe tbody tr th {\n",
       "        vertical-align: top;\n",
       "    }\n",
       "\n",
       "    .dataframe thead th {\n",
       "        text-align: right;\n",
       "    }\n",
       "</style>\n",
       "<table border=\"1\" class=\"dataframe\">\n",
       "  <thead>\n",
       "    <tr style=\"text-align: right;\">\n",
       "      <th></th>\n",
       "      <th>Date</th>\n",
       "      <th>Open</th>\n",
       "      <th>High</th>\n",
       "      <th>Low</th>\n",
       "      <th>Close</th>\n",
       "      <th>Adj Close</th>\n",
       "      <th>Volume</th>\n",
       "    </tr>\n",
       "  </thead>\n",
       "  <tbody>\n",
       "    <tr>\n",
       "      <th>3804</th>\n",
       "      <td>2019-09-30</td>\n",
       "      <td>1220.969971</td>\n",
       "      <td>1226.000000</td>\n",
       "      <td>1212.300049</td>\n",
       "      <td>1219.000000</td>\n",
       "      <td>1219.000000</td>\n",
       "      <td>1404100</td>\n",
       "    </tr>\n",
       "    <tr>\n",
       "      <th>3805</th>\n",
       "      <td>2019-10-01</td>\n",
       "      <td>1219.000000</td>\n",
       "      <td>1231.229980</td>\n",
       "      <td>1203.579956</td>\n",
       "      <td>1205.099976</td>\n",
       "      <td>1205.099976</td>\n",
       "      <td>1273500</td>\n",
       "    </tr>\n",
       "    <tr>\n",
       "      <th>3806</th>\n",
       "      <td>2019-10-02</td>\n",
       "      <td>1196.979980</td>\n",
       "      <td>1196.979980</td>\n",
       "      <td>1171.290039</td>\n",
       "      <td>1176.630005</td>\n",
       "      <td>1176.630005</td>\n",
       "      <td>1615100</td>\n",
       "    </tr>\n",
       "    <tr>\n",
       "      <th>3807</th>\n",
       "      <td>2019-10-03</td>\n",
       "      <td>1180.000000</td>\n",
       "      <td>1189.060059</td>\n",
       "      <td>1162.430054</td>\n",
       "      <td>1187.829956</td>\n",
       "      <td>1187.829956</td>\n",
       "      <td>1621200</td>\n",
       "    </tr>\n",
       "    <tr>\n",
       "      <th>3808</th>\n",
       "      <td>2019-10-04</td>\n",
       "      <td>1191.890015</td>\n",
       "      <td>1211.439941</td>\n",
       "      <td>1189.170044</td>\n",
       "      <td>1209.000000</td>\n",
       "      <td>1209.000000</td>\n",
       "      <td>1162400</td>\n",
       "    </tr>\n",
       "  </tbody>\n",
       "</table>\n",
       "</div>"
      ],
      "text/plain": [
       "            Date         Open         High          Low        Close  \\\n",
       "3804  2019-09-30  1220.969971  1226.000000  1212.300049  1219.000000   \n",
       "3805  2019-10-01  1219.000000  1231.229980  1203.579956  1205.099976   \n",
       "3806  2019-10-02  1196.979980  1196.979980  1171.290039  1176.630005   \n",
       "3807  2019-10-03  1180.000000  1189.060059  1162.430054  1187.829956   \n",
       "3808  2019-10-04  1191.890015  1211.439941  1189.170044  1209.000000   \n",
       "\n",
       "        Adj Close   Volume  \n",
       "3804  1219.000000  1404100  \n",
       "3805  1205.099976  1273500  \n",
       "3806  1176.630005  1615100  \n",
       "3807  1187.829956  1621200  \n",
       "3808  1209.000000  1162400  "
      ]
     },
     "execution_count": 2,
     "metadata": {},
     "output_type": "execute_result"
    }
   ],
   "source": [
    "#  Load the dataset\n",
    "data = pd.read_csv(r'C:\\Users\\Win8\\Desktop\\practice scripts\\RNN LSTM\\Stock prediction\\Stock price prediction\\GOOG.csv', date_parser = True)\n",
    "data.tail()"
   ]
  },
  {
   "cell_type": "code",
   "execution_count": 3,
   "metadata": {},
   "outputs": [],
   "source": [
    "# Define training data\n",
    "data_training_1 = data[data['Date']<'2019-01-01']\n",
    "data_training = data_training_1.drop(['Date', 'Adj Close'], axis = 1)\n",
    "\n",
    "# Define testing data\n",
    "data_test = data[data['Date']>='2019-01-01']"
   ]
  },
  {
   "cell_type": "markdown",
   "metadata": {},
   "source": [
    "**The values in the training data are not in a particular range, so to convert all the values between 0 to 1, MinMaxScaler() function is used**"
   ]
  },
  {
   "cell_type": "code",
   "execution_count": 4,
   "metadata": {
    "scrolled": true
   },
   "outputs": [
    {
     "name": "stdout",
     "output_type": "stream",
     "text": [
      "[[3.30294890e-04 9.44785459e-04 0.00000000e+00 1.34908021e-04\n",
      "  5.43577404e-01]\n",
      " [7.42148227e-04 2.98909923e-03 1.88269054e-03 3.39307537e-03\n",
      "  2.77885613e-01]\n",
      " [4.71386886e-03 4.78092896e-03 5.42828241e-03 3.83867225e-03\n",
      "  2.22150736e-01]\n",
      " ...\n",
      " [7.92197108e-01 8.11970141e-01 7.90196475e-01 8.15799920e-01\n",
      "  2.54672037e-02]\n",
      " [8.18777193e-01 8.21510648e-01 8.20249255e-01 8.10219301e-01\n",
      "  1.70463908e-02]\n",
      " [8.19874096e-01 8.19172449e-01 8.12332341e-01 8.09012935e-01\n",
      "  1.79975186e-02]]\n"
     ]
    }
   ],
   "source": [
    "scaler = MinMaxScaler()\n",
    "data_training = scaler.fit_transform(data_training)\n",
    "print(data_training)\n"
   ]
  },
  {
   "cell_type": "markdown",
   "metadata": {},
   "source": [
    "**We will read the data for first 60 days and then predict for the 61th day. The we will move ahead by one day and read the next chunk of data for next 60 days and so on.**\n",
    "\n",
    "**We will train the model on 60 days data at a time. So the 'for' loop mentioned below divides the data into chunks of 60 rows.\n",
    "After that, converting  X_train  and  y_train  into  numpy arrays.**"
   ]
  },
  {
   "cell_type": "code",
   "execution_count": 5,
   "metadata": {},
   "outputs": [],
   "source": [
    "X_train = []\n",
    "y_train = []\n",
    "for i in range(60, data_training.shape[0]):\n",
    "    X_train.append(data_training[i-60:i])\n",
    "    y_train.append(data_training[i, 0])\n",
    "\n",
    "X_train, y_train = np.array(X_train), np.array(y_train)"
   ]
  },
  {
   "cell_type": "code",
   "execution_count": 6,
   "metadata": {},
   "outputs": [
    {
     "data": {
      "text/plain": [
       "(3557, 60, 5)"
      ]
     },
     "execution_count": 6,
     "metadata": {},
     "output_type": "execute_result"
    }
   ],
   "source": [
    "X_train.shape"
   ]
  },
  {
   "cell_type": "markdown",
   "metadata": {},
   "source": [
    "**So, X_train consists of 3557 number of data. Each data has 60 lists and each list\n",
    "has 5 elements (Open, High, Low, Close and Volume)**"
   ]
  },
  {
   "cell_type": "code",
   "execution_count": 7,
   "metadata": {},
   "outputs": [],
   "source": [
    "# importing Keras for building Deep learning model\n",
    "\n",
    "from tensorflow.keras import Sequential\n",
    "from tensorflow.keras.layers import Dense, LSTM, Dropout"
   ]
  },
  {
   "cell_type": "markdown",
   "metadata": {},
   "source": [
    "- **We are selecting 60 units as the LSTM layer** <b>\n",
    "    \n",
    "    \n",
    "- **Selecting Relu activation function. It is a linear function that will output the input directly if it is positive,\n",
    "otherwise, it will give zero.** <b>\n",
    "    \n",
    "    \n",
    "- **Return sequence is set to true to return the full sequence as the output.** <b>\n",
    "    \n",
    "    \n",
    "- **First layer input shape is (60,5)** <b>\n",
    "    \n",
    "    \n",
    "- **At each update of the training phase, dropout_layer is used to randomly set the outgoing values to 0.\n",
    "Values of dropout specifies the probability at which outputs of the layer are dropped out.** <b>\n",
    "    \n",
    "    \n",
    "- **Lastly a dense layer is used, which is a regular deeply connected neural network layer.\n",
    "As mentined before, we are predicting one value using 60 input layer, so the last layer is set to 1.**\n"
   ]
  },
  {
   "cell_type": "code",
   "execution_count": 8,
   "metadata": {},
   "outputs": [],
   "source": [
    "regressor = Sequential()\n",
    "\n",
    "regressor.add(LSTM(units = 60, activation = 'relu', return_sequences = True, input_shape = (X_train.shape[1], 5)))\n",
    "regressor.add(Dropout(0.2))\n",
    "                                                                                            \n",
    "regressor.add(LSTM(units = 60, activation = 'relu', return_sequences = True))\n",
    "regressor.add(Dropout(0.2))\n",
    "                                                                                            \n",
    "regressor.add(LSTM(units = 80, activation = 'relu', return_sequences = True))\n",
    "regressor.add(Dropout(0.2))\n",
    "                                                                                            \n",
    "regressor.add(LSTM(units = 120, activation = 'relu'))\n",
    "regressor.add(Dropout(0.2))\n",
    "                                                                                            \n",
    "regressor.add(Dense(units = 1))"
   ]
  },
  {
   "cell_type": "code",
   "execution_count": 9,
   "metadata": {
    "scrolled": true
   },
   "outputs": [
    {
     "name": "stdout",
     "output_type": "stream",
     "text": [
      "Model: \"sequential\"\n",
      "_________________________________________________________________\n",
      "Layer (type)                 Output Shape              Param #   \n",
      "=================================================================\n",
      "lstm (LSTM)                  (None, 60, 60)            15840     \n",
      "_________________________________________________________________\n",
      "dropout (Dropout)            (None, 60, 60)            0         \n",
      "_________________________________________________________________\n",
      "lstm_1 (LSTM)                (None, 60, 60)            29040     \n",
      "_________________________________________________________________\n",
      "dropout_1 (Dropout)          (None, 60, 60)            0         \n",
      "_________________________________________________________________\n",
      "lstm_2 (LSTM)                (None, 60, 80)            45120     \n",
      "_________________________________________________________________\n",
      "dropout_2 (Dropout)          (None, 60, 80)            0         \n",
      "_________________________________________________________________\n",
      "lstm_3 (LSTM)                (None, 120)               96480     \n",
      "_________________________________________________________________\n",
      "dropout_3 (Dropout)          (None, 120)               0         \n",
      "_________________________________________________________________\n",
      "dense (Dense)                (None, 1)                 121       \n",
      "=================================================================\n",
      "Total params: 186,601\n",
      "Trainable params: 186,601\n",
      "Non-trainable params: 0\n",
      "_________________________________________________________________\n"
     ]
    }
   ],
   "source": [
    "regressor.summary()"
   ]
  },
  {
   "cell_type": "markdown",
   "metadata": {},
   "source": [
    "**Now we are compiling and fitting our model to the training data. We are selecting 50 iterations and \n",
    "batch size as 32, means the weights will be updateed after 32 training examples.**"
   ]
  },
  {
   "cell_type": "code",
   "execution_count": 10,
   "metadata": {},
   "outputs": [
    {
     "name": "stdout",
     "output_type": "stream",
     "text": [
      "Epoch 1/50\n",
      "112/112 [==============================] - 44s 338ms/step - loss: 0.0305\n",
      "Epoch 2/50\n",
      "112/112 [==============================] - 51s 457ms/step - loss: 0.0018\n",
      "Epoch 3/50\n",
      "112/112 [==============================] - 49s 435ms/step - loss: 0.0019\n",
      "Epoch 4/50\n",
      "112/112 [==============================] - 46s 415ms/step - loss: 0.0018\n",
      "Epoch 5/50\n",
      "112/112 [==============================] - 45s 404ms/step - loss: 0.0015\n",
      "Epoch 6/50\n",
      "112/112 [==============================] - 46s 412ms/step - loss: 0.0016\n",
      "Epoch 7/50\n",
      "112/112 [==============================] - 51s 452ms/step - loss: 0.0014\n",
      "Epoch 8/50\n",
      "112/112 [==============================] - 48s 432ms/step - loss: 0.0011\n",
      "Epoch 9/50\n",
      "112/112 [==============================] - 43s 379ms/step - loss: 0.0012\n",
      "Epoch 10/50\n",
      "112/112 [==============================] - 49s 435ms/step - loss: 0.0016\n",
      "Epoch 11/50\n",
      "112/112 [==============================] - 50s 447ms/step - loss: 0.0012\n",
      "Epoch 12/50\n",
      "112/112 [==============================] - 46s 415ms/step - loss: 0.0012\n",
      "Epoch 13/50\n",
      "112/112 [==============================] - 47s 417ms/step - loss: 0.0011\n",
      "Epoch 14/50\n",
      "112/112 [==============================] - 51s 453ms/step - loss: 0.0011\n",
      "Epoch 15/50\n",
      "112/112 [==============================] - 53s 469ms/step - loss: 0.0011\n",
      "Epoch 16/50\n",
      "112/112 [==============================] - 49s 437ms/step - loss: 9.2105e-04\n",
      "Epoch 17/50\n",
      "112/112 [==============================] - 50s 449ms/step - loss: 9.3289e-04\n",
      "Epoch 18/50\n",
      "112/112 [==============================] - 48s 428ms/step - loss: 9.3842e-04\n",
      "Epoch 19/50\n",
      "112/112 [==============================] - 51s 457ms/step - loss: 8.4199e-04\n",
      "Epoch 20/50\n",
      "112/112 [==============================] - 51s 451ms/step - loss: 8.6096e-04\n",
      "Epoch 21/50\n",
      "112/112 [==============================] - 45s 404ms/step - loss: 7.8159e-04\n",
      "Epoch 22/50\n",
      "112/112 [==============================] - 51s 454ms/step - loss: 9.2616e-04\n",
      "Epoch 23/50\n",
      "112/112 [==============================] - 50s 445ms/step - loss: 8.1284e-04\n",
      "Epoch 24/50\n",
      "112/112 [==============================] - 50s 440ms/step - loss: 8.5190e-04\n",
      "Epoch 25/50\n",
      "112/112 [==============================] - 61s 542ms/step - loss: 8.5787e-04\n",
      "Epoch 26/50\n",
      "112/112 [==============================] - 61s 547ms/step - loss: 7.9754e-04\n",
      "Epoch 27/50\n",
      "112/112 [==============================] - 68s 604ms/step - loss: 0.0011\n",
      "Epoch 28/50\n",
      "112/112 [==============================] - 68s 604ms/step - loss: 6.7795e-04\n",
      "Epoch 29/50\n",
      "112/112 [==============================] - 56s 497ms/step - loss: 8.3080e-04\n",
      "Epoch 30/50\n",
      "112/112 [==============================] - 48s 430ms/step - loss: 9.1582e-04\n",
      "Epoch 31/50\n",
      "112/112 [==============================] - 61s 550ms/step - loss: 7.8254e-04\n",
      "Epoch 32/50\n",
      "112/112 [==============================] - 55s 492ms/step - loss: 7.9571e-04\n",
      "Epoch 33/50\n",
      "112/112 [==============================] - 65s 582ms/step - loss: 7.3677e-04\n",
      "Epoch 34/50\n",
      "112/112 [==============================] - 55s 486ms/step - loss: 9.4781e-04\n",
      "Epoch 35/50\n",
      "112/112 [==============================] - 58s 519ms/step - loss: 6.7766e-04\n",
      "Epoch 36/50\n",
      "112/112 [==============================] - 51s 455ms/step - loss: 6.8706e-04\n",
      "Epoch 37/50\n",
      "112/112 [==============================] - 49s 433ms/step - loss: 5.8671e-04\n",
      "Epoch 38/50\n",
      "112/112 [==============================] - 54s 484ms/step - loss: 6.8368e-04\n",
      "Epoch 39/50\n",
      "112/112 [==============================] - 53s 476ms/step - loss: 6.5240e-04\n",
      "Epoch 40/50\n",
      "112/112 [==============================] - 48s 425ms/step - loss: 6.1732e-04\n",
      "Epoch 41/50\n",
      "112/112 [==============================] - 51s 462ms/step - loss: 5.6016e-04\n",
      "Epoch 42/50\n",
      "112/112 [==============================] - 53s 469ms/step - loss: 5.8394e-04\n",
      "Epoch 43/50\n",
      "112/112 [==============================] - 53s 474ms/step - loss: 6.6730e-04\n",
      "Epoch 44/50\n",
      "112/112 [==============================] - 52s 471ms/step - loss: 5.4759e-04\n",
      "Epoch 45/50\n",
      "112/112 [==============================] - 48s 424ms/step - loss: 5.5420e-04\n",
      "Epoch 46/50\n",
      "112/112 [==============================] - 50s 452ms/step - loss: 6.5124e-04\n",
      "Epoch 47/50\n",
      "112/112 [==============================] - 50s 443ms/step - loss: 6.2842e-04\n",
      "Epoch 48/50\n",
      "112/112 [==============================] - 50s 445ms/step - loss: 5.6593e-04\n",
      "Epoch 49/50\n",
      "112/112 [==============================] - 52s 467ms/step - loss: 5.5022e-04\n",
      "Epoch 50/50\n",
      "112/112 [==============================] - 46s 410ms/step - loss: 5.4046e-04\n"
     ]
    },
    {
     "data": {
      "text/plain": [
       "<tensorflow.python.keras.callbacks.History at 0x111670cc48>"
      ]
     },
     "execution_count": 10,
     "metadata": {},
     "output_type": "execute_result"
    }
   ],
   "source": [
    "regressor.compile(optimizer='adam', loss = 'mean_squared_error')\n",
    "regressor.fit(X_train, y_train, epochs=50, batch_size=32)"
   ]
  },
  {
   "cell_type": "code",
   "execution_count": 11,
   "metadata": {
    "scrolled": false
   },
   "outputs": [
    {
     "data": {
      "text/html": [
       "<div>\n",
       "<style scoped>\n",
       "    .dataframe tbody tr th:only-of-type {\n",
       "        vertical-align: middle;\n",
       "    }\n",
       "\n",
       "    .dataframe tbody tr th {\n",
       "        vertical-align: top;\n",
       "    }\n",
       "\n",
       "    .dataframe thead th {\n",
       "        text-align: right;\n",
       "    }\n",
       "</style>\n",
       "<table border=\"1\" class=\"dataframe\">\n",
       "  <thead>\n",
       "    <tr style=\"text-align: right;\">\n",
       "      <th></th>\n",
       "      <th>Date</th>\n",
       "      <th>Open</th>\n",
       "      <th>High</th>\n",
       "      <th>Low</th>\n",
       "      <th>Close</th>\n",
       "      <th>Adj Close</th>\n",
       "      <th>Volume</th>\n",
       "    </tr>\n",
       "  </thead>\n",
       "  <tbody>\n",
       "    <tr>\n",
       "      <th>3617</th>\n",
       "      <td>2019-01-02</td>\n",
       "      <td>1016.570007</td>\n",
       "      <td>1052.319946</td>\n",
       "      <td>1015.710022</td>\n",
       "      <td>1045.849976</td>\n",
       "      <td>1045.849976</td>\n",
       "      <td>1532600</td>\n",
       "    </tr>\n",
       "    <tr>\n",
       "      <th>3618</th>\n",
       "      <td>2019-01-03</td>\n",
       "      <td>1041.000000</td>\n",
       "      <td>1056.979980</td>\n",
       "      <td>1014.070007</td>\n",
       "      <td>1016.059998</td>\n",
       "      <td>1016.059998</td>\n",
       "      <td>1841100</td>\n",
       "    </tr>\n",
       "    <tr>\n",
       "      <th>3619</th>\n",
       "      <td>2019-01-04</td>\n",
       "      <td>1032.589966</td>\n",
       "      <td>1070.839966</td>\n",
       "      <td>1027.417969</td>\n",
       "      <td>1070.709961</td>\n",
       "      <td>1070.709961</td>\n",
       "      <td>2093900</td>\n",
       "    </tr>\n",
       "    <tr>\n",
       "      <th>3620</th>\n",
       "      <td>2019-01-07</td>\n",
       "      <td>1071.500000</td>\n",
       "      <td>1074.000000</td>\n",
       "      <td>1054.760010</td>\n",
       "      <td>1068.390015</td>\n",
       "      <td>1068.390015</td>\n",
       "      <td>1981900</td>\n",
       "    </tr>\n",
       "    <tr>\n",
       "      <th>3621</th>\n",
       "      <td>2019-01-08</td>\n",
       "      <td>1076.109985</td>\n",
       "      <td>1084.560059</td>\n",
       "      <td>1060.530029</td>\n",
       "      <td>1076.280029</td>\n",
       "      <td>1076.280029</td>\n",
       "      <td>1764900</td>\n",
       "    </tr>\n",
       "  </tbody>\n",
       "</table>\n",
       "</div>"
      ],
      "text/plain": [
       "            Date         Open         High          Low        Close  \\\n",
       "3617  2019-01-02  1016.570007  1052.319946  1015.710022  1045.849976   \n",
       "3618  2019-01-03  1041.000000  1056.979980  1014.070007  1016.059998   \n",
       "3619  2019-01-04  1032.589966  1070.839966  1027.417969  1070.709961   \n",
       "3620  2019-01-07  1071.500000  1074.000000  1054.760010  1068.390015   \n",
       "3621  2019-01-08  1076.109985  1084.560059  1060.530029  1076.280029   \n",
       "\n",
       "        Adj Close   Volume  \n",
       "3617  1045.849976  1532600  \n",
       "3618  1016.059998  1841100  \n",
       "3619  1070.709961  2093900  \n",
       "3620  1068.390015  1981900  \n",
       "3621  1076.280029  1764900  "
      ]
     },
     "execution_count": 11,
     "metadata": {},
     "output_type": "execute_result"
    }
   ],
   "source": [
    "data_test.head()"
   ]
  },
  {
   "cell_type": "markdown",
   "metadata": {},
   "source": [
    "**For the test data, to predict the opening on any day we need to have data of previous 60 days, so we will select the last 60 days of training data and append it to the testing data.**"
   ]
  },
  {
   "cell_type": "code",
   "execution_count": 12,
   "metadata": {},
   "outputs": [],
   "source": [
    "# Select past 60 days training data\n",
    "past_60_days = data_training_1.tail(60)\n",
    "# past_60_days"
   ]
  },
  {
   "cell_type": "code",
   "execution_count": 13,
   "metadata": {
    "scrolled": true
   },
   "outputs": [
    {
     "data": {
      "text/html": [
       "<div>\n",
       "<style scoped>\n",
       "    .dataframe tbody tr th:only-of-type {\n",
       "        vertical-align: middle;\n",
       "    }\n",
       "\n",
       "    .dataframe tbody tr th {\n",
       "        vertical-align: top;\n",
       "    }\n",
       "\n",
       "    .dataframe thead th {\n",
       "        text-align: right;\n",
       "    }\n",
       "</style>\n",
       "<table border=\"1\" class=\"dataframe\">\n",
       "  <thead>\n",
       "    <tr style=\"text-align: right;\">\n",
       "      <th></th>\n",
       "      <th>Open</th>\n",
       "      <th>High</th>\n",
       "      <th>Low</th>\n",
       "      <th>Close</th>\n",
       "      <th>Volume</th>\n",
       "    </tr>\n",
       "  </thead>\n",
       "  <tbody>\n",
       "    <tr>\n",
       "      <th>0</th>\n",
       "      <td>1195.329956</td>\n",
       "      <td>1197.510010</td>\n",
       "      <td>1155.576050</td>\n",
       "      <td>1168.189941</td>\n",
       "      <td>2209500</td>\n",
       "    </tr>\n",
       "    <tr>\n",
       "      <th>1</th>\n",
       "      <td>1167.500000</td>\n",
       "      <td>1173.500000</td>\n",
       "      <td>1145.119995</td>\n",
       "      <td>1157.349976</td>\n",
       "      <td>1184300</td>\n",
       "    </tr>\n",
       "    <tr>\n",
       "      <th>2</th>\n",
       "      <td>1150.109985</td>\n",
       "      <td>1168.000000</td>\n",
       "      <td>1127.364014</td>\n",
       "      <td>1148.969971</td>\n",
       "      <td>1932400</td>\n",
       "    </tr>\n",
       "    <tr>\n",
       "      <th>3</th>\n",
       "      <td>1146.150024</td>\n",
       "      <td>1154.349976</td>\n",
       "      <td>1137.572021</td>\n",
       "      <td>1138.819946</td>\n",
       "      <td>1308700</td>\n",
       "    </tr>\n",
       "    <tr>\n",
       "      <th>4</th>\n",
       "      <td>1131.079956</td>\n",
       "      <td>1132.170044</td>\n",
       "      <td>1081.130005</td>\n",
       "      <td>1081.219971</td>\n",
       "      <td>2675700</td>\n",
       "    </tr>\n",
       "  </tbody>\n",
       "</table>\n",
       "</div>"
      ],
      "text/plain": [
       "          Open         High          Low        Close   Volume\n",
       "0  1195.329956  1197.510010  1155.576050  1168.189941  2209500\n",
       "1  1167.500000  1173.500000  1145.119995  1157.349976  1184300\n",
       "2  1150.109985  1168.000000  1127.364014  1148.969971  1932400\n",
       "3  1146.150024  1154.349976  1137.572021  1138.819946  1308700\n",
       "4  1131.079956  1132.170044  1081.130005  1081.219971  2675700"
      ]
     },
     "execution_count": 13,
     "metadata": {},
     "output_type": "execute_result"
    }
   ],
   "source": [
    "df = past_60_days.append(data_test, ignore_index = True)\n",
    "\n",
    "# To get the date range for plotting it in X-axis\n",
    "df1 = df[[\"Date\"]]\n",
    "\n",
    "# Dropping extra columns which are not required\n",
    "df = df.drop(['Date', 'Adj Close'], axis = 1)\n",
    "df.head()"
   ]
  },
  {
   "cell_type": "markdown",
   "metadata": {},
   "source": [
    "**Similar to training data, we need to have our testing data in a particular range by converting it between 0 to 1.**"
   ]
  },
  {
   "cell_type": "code",
   "execution_count": 14,
   "metadata": {
    "scrolled": true
   },
   "outputs": [
    {
     "data": {
      "text/plain": [
       "array([[0.93805611, 0.93755773, 0.92220906, 0.91781776, 0.0266752 ],\n",
       "       [0.91527437, 0.91792904, 0.91350452, 0.90892169, 0.01425359],\n",
       "       [0.90103881, 0.91343268, 0.89872289, 0.90204445, 0.02331778],\n",
       "       ...,\n",
       "       [0.93940683, 0.93712442, 0.93529076, 0.9247443 , 0.01947328],\n",
       "       [0.92550693, 0.93064972, 0.92791493, 0.9339358 , 0.01954719],\n",
       "       [0.93524016, 0.94894575, 0.95017564, 0.95130949, 0.01398824]])"
      ]
     },
     "execution_count": 14,
     "metadata": {},
     "output_type": "execute_result"
    }
   ],
   "source": [
    "inputs = scaler.transform(df)\n",
    "inputs"
   ]
  },
  {
   "cell_type": "markdown",
   "metadata": {},
   "source": [
    "**Prepare out test data similar to training data**"
   ]
  },
  {
   "cell_type": "code",
   "execution_count": 15,
   "metadata": {},
   "outputs": [
    {
     "data": {
      "text/plain": [
       "((192, 60, 5), (192,))"
      ]
     },
     "execution_count": 15,
     "metadata": {},
     "output_type": "execute_result"
    }
   ],
   "source": [
    "X_test = []\n",
    "y_test = []\n",
    "\n",
    "for i in range(60, inputs.shape[0]):\n",
    "    X_test.append(inputs[i-60:i])\n",
    "    y_test.append(inputs[i, 0])\n",
    "\n",
    "X_test, y_test = np.array(X_test), np.array(y_test)\n",
    "X_test.shape, y_test.shape"
   ]
  },
  {
   "cell_type": "markdown",
   "metadata": {},
   "source": [
    "**Next step will help us to predict the opening of X_text**"
   ]
  },
  {
   "cell_type": "code",
   "execution_count": 16,
   "metadata": {},
   "outputs": [],
   "source": [
    "y_pred = regressor.predict(X_test)"
   ]
  },
  {
   "cell_type": "markdown",
   "metadata": {},
   "source": [
    "**To bring back the scaled values to the original scale, we need to identify the scaling level using scaler.scale_**"
   ]
  },
  {
   "cell_type": "code",
   "execution_count": 17,
   "metadata": {
    "scrolled": true
   },
   "outputs": [
    {
     "data": {
      "text/plain": [
       "array([8.18605127e-04, 8.17521128e-04, 8.32487534e-04, 8.20673293e-04,\n",
       "       1.21162775e-08])"
      ]
     },
     "execution_count": 17,
     "metadata": {},
     "output_type": "execute_result"
    }
   ],
   "source": [
    "scaler.scale_"
   ]
  },
  {
   "cell_type": "markdown",
   "metadata": {},
   "source": [
    "**We will multiply  y_pred  and  y_test  with the inverse of this scaling level value to get all the values in the original scale.**"
   ]
  },
  {
   "cell_type": "code",
   "execution_count": 18,
   "metadata": {},
   "outputs": [
    {
     "data": {
      "text/plain": [
       "1221.5901990069017"
      ]
     },
     "execution_count": 18,
     "metadata": {},
     "output_type": "execute_result"
    }
   ],
   "source": [
    "scale = 1/8.18605127e-04\n",
    "scale"
   ]
  },
  {
   "cell_type": "code",
   "execution_count": 19,
   "metadata": {},
   "outputs": [],
   "source": [
    "y_pred = y_pred*scale\n",
    "y_test = y_test*scale"
   ]
  },
  {
   "cell_type": "code",
   "execution_count": 20,
   "metadata": {},
   "outputs": [
    {
     "data": {
      "text/plain": [
       "192"
      ]
     },
     "execution_count": 20,
     "metadata": {},
     "output_type": "execute_result"
    }
   ],
   "source": [
    "len(y_pred)"
   ]
  },
  {
   "cell_type": "markdown",
   "metadata": {},
   "source": [
    "# Visualization"
   ]
  },
  {
   "cell_type": "code",
   "execution_count": 21,
   "metadata": {
    "scrolled": true
   },
   "outputs": [
    {
     "data": {
      "image/png": "[encoded data removed]",
      "text/plain": [
       "<Figure size 1008x360 with 1 Axes>"
      ]
     },
     "metadata": {
      "needs_background": "light"
     },
     "output_type": "display_data"
    }
   ],
   "source": [
    "# Visualising the results\n",
    "plt.figure(figsize=(14,5))\n",
    "plt.plot(y_test, color = 'red', label = 'Real Google Stock Price')\n",
    "plt.plot(y_pred, color = 'blue', label = 'Predicted Google Stock Price')\n",
    "plt.title('Google Stock Price Prediction')\n",
    "plt.xlabel('Time')\n",
    "plt.ylabel('Google Stock Price')\n",
    "plt.legend()\n",
    "plt.show()"
   ]
  },
  {
   "cell_type": "markdown",
   "metadata": {},
   "source": [
    "**Graph shows good prediction of Google stock price with a good accuracy** <b>\n",
    "    \n",
    "    \n",
    "**Now, to carry out statistical analysis between y_test and y_pred, below mentioned package is used**"
   ]
  },
  {
   "cell_type": "code",
   "execution_count": 22,
   "metadata": {},
   "outputs": [],
   "source": [
    "import HydroErr as he\n",
    "\n",
    "# to convert dataframe into 1D array\n",
    "y_test = y_test.flatten()\n",
    "\n",
    "y_pred = y_pred.flatten()\n",
    "\n"
   ]
  },
  {
   "cell_type": "markdown",
   "metadata": {},
   "source": [
    "**To find R_squared value**"
   ]
  },
  {
   "cell_type": "code",
   "execution_count": 23,
   "metadata": {},
   "outputs": [
    {
     "name": "stdout",
     "output_type": "stream",
     "text": [
      "Coefficient of Determination (r2): 0.806\n"
     ]
    }
   ],
   "source": [
    "# Compute the the Coefficient of Determination (r2) (without intercept)\n",
    "pred = np.array(y_pred)\n",
    "test = np.array(y_test)\n",
    "r2 = np.round(he.r_squared(pred, test), 3)\n",
    "print('Coefficient of Determination (r2):', r2)"
   ]
  },
  {
   "cell_type": "markdown",
   "metadata": {},
   "source": [
    "**To further improve the prediction accuracy and R_squared value, different epoch values can be tried out and dropout values can also be changed.**\n",
    "\n",
    "\n",
    "### Hope, this script of Deep Learning technique be useful and one can even apply this script for different applications.\n",
    "\n",
    "# Thank you"
   ]
  }
 ],
 "metadata": {
  "kernelspec": {
   "display_name": "Python 3",
   "language": "python",
   "name": "python3"
  },
  "language_info": {
   "codemirror_mode": {
    "name": "ipython",
    "version": 3
   },
   "file_extension": ".py",
   "mimetype": "text/x-python",
   "name": "python",
   "nbconvert_exporter": "python",
   "pygments_lexer": "ipython3",
   "version": "3.7.8"
  }
 },
 "nbformat": 4,
 "nbformat_minor": 4
}
